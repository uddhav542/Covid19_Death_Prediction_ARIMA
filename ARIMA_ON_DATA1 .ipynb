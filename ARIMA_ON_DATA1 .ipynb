{
 "cells": [
  {
   "cell_type": "markdown",
   "metadata": {
    "colab": {
     "base_uri": "https://localhost:8080/"
    },
    "executionInfo": {
     "elapsed": 3362,
     "status": "ok",
     "timestamp": 1648058965361,
     "user": {
      "displayName": "Uddhav Patil",
      "photoUrl": "https://lh3.googleusercontent.com/a/default-user=s64",
      "userId": "03045740889038286514"
     },
     "user_tz": -330
    },
    "id": "OWM7xW1kmDr1",
    "outputId": "b1133c19-705c-453f-cea9-f7290acfb24d"
   },
   "source": [
    "# ARIMA modelling on Covid 19 Dataset"
   ]
  },
  {
   "cell_type": "code",
   "execution_count": 29,
   "metadata": {
    "executionInfo": {
     "elapsed": 506,
     "status": "ok",
     "timestamp": 1648058961485,
     "user": {
      "displayName": "Uddhav Patil",
      "photoUrl": "https://lh3.googleusercontent.com/a/default-user=s64",
      "userId": "03045740889038286514"
     },
     "user_tz": -330
    },
    "id": "RrKOr6Q4mutK"
   },
   "outputs": [],
   "source": [
    "import numpy as np\n",
    "import pandas as pd\n",
    "import matplotlib.pyplot as plt"
   ]
  },
  {
   "cell_type": "markdown",
   "metadata": {},
   "source": [
    "### Read Data"
   ]
  },
  {
   "cell_type": "code",
   "execution_count": 30,
   "metadata": {
    "colab": {
     "base_uri": "https://localhost:8080/",
     "height": 658
    },
    "executionInfo": {
     "elapsed": 2290,
     "status": "ok",
     "timestamp": 1648058967638,
     "user": {
      "displayName": "Uddhav Patil",
      "photoUrl": "https://lh3.googleusercontent.com/a/default-user=s64",
      "userId": "03045740889038286514"
     },
     "user_tz": -330
    },
    "id": "U-f2X0AB9Kqk",
    "outputId": "e1a9aed6-6dca-4280-bd4b-39d546ed466b"
   },
   "outputs": [
    {
     "data": {
      "text/html": [
       "<div>\n",
       "<style scoped>\n",
       "    .dataframe tbody tr th:only-of-type {\n",
       "        vertical-align: middle;\n",
       "    }\n",
       "\n",
       "    .dataframe tbody tr th {\n",
       "        vertical-align: top;\n",
       "    }\n",
       "\n",
       "    .dataframe thead th {\n",
       "        text-align: right;\n",
       "    }\n",
       "</style>\n",
       "<table border=\"1\" class=\"dataframe\">\n",
       "  <thead>\n",
       "    <tr style=\"text-align: right;\">\n",
       "      <th></th>\n",
       "      <th>Data As Of</th>\n",
       "      <th>Start Date</th>\n",
       "      <th>End Date</th>\n",
       "      <th>Group</th>\n",
       "      <th>Year</th>\n",
       "      <th>Month</th>\n",
       "      <th>State</th>\n",
       "      <th>Condition Group</th>\n",
       "      <th>Condition</th>\n",
       "      <th>ICD10_codes</th>\n",
       "      <th>Age Group</th>\n",
       "      <th>COVID-19 Deaths</th>\n",
       "      <th>Number of Mentions</th>\n",
       "      <th>Flag</th>\n",
       "    </tr>\n",
       "  </thead>\n",
       "  <tbody>\n",
       "    <tr>\n",
       "      <th>0</th>\n",
       "      <td>03/13/2022</td>\n",
       "      <td>01-01-2020</td>\n",
       "      <td>01/31/2020</td>\n",
       "      <td>By Month</td>\n",
       "      <td>2020</td>\n",
       "      <td>1</td>\n",
       "      <td>United States</td>\n",
       "      <td>Respiratory diseases</td>\n",
       "      <td>Influenza and pneumonia</td>\n",
       "      <td>J09-J18</td>\n",
       "      <td>0-24</td>\n",
       "      <td>0.0</td>\n",
       "      <td>0.0</td>\n",
       "      <td>NaN</td>\n",
       "    </tr>\n",
       "    <tr>\n",
       "      <th>1</th>\n",
       "      <td>03/13/2022</td>\n",
       "      <td>02-01-2020</td>\n",
       "      <td>02/29/2020</td>\n",
       "      <td>By Month</td>\n",
       "      <td>2020</td>\n",
       "      <td>2</td>\n",
       "      <td>United States</td>\n",
       "      <td>Respiratory diseases</td>\n",
       "      <td>Influenza and pneumonia</td>\n",
       "      <td>J09-J18</td>\n",
       "      <td>0-24</td>\n",
       "      <td>0.0</td>\n",
       "      <td>0.0</td>\n",
       "      <td>NaN</td>\n",
       "    </tr>\n",
       "    <tr>\n",
       "      <th>2</th>\n",
       "      <td>03/13/2022</td>\n",
       "      <td>03-01-2020</td>\n",
       "      <td>03/31/2020</td>\n",
       "      <td>By Month</td>\n",
       "      <td>2020</td>\n",
       "      <td>3</td>\n",
       "      <td>United States</td>\n",
       "      <td>Respiratory diseases</td>\n",
       "      <td>Influenza and pneumonia</td>\n",
       "      <td>J09-J18</td>\n",
       "      <td>0-24</td>\n",
       "      <td>9.0</td>\n",
       "      <td>9.0</td>\n",
       "      <td>NaN</td>\n",
       "    </tr>\n",
       "    <tr>\n",
       "      <th>3</th>\n",
       "      <td>03/13/2022</td>\n",
       "      <td>04-01-2020</td>\n",
       "      <td>04/30/2020</td>\n",
       "      <td>By Month</td>\n",
       "      <td>2020</td>\n",
       "      <td>4</td>\n",
       "      <td>United States</td>\n",
       "      <td>Respiratory diseases</td>\n",
       "      <td>Influenza and pneumonia</td>\n",
       "      <td>J09-J18</td>\n",
       "      <td>0-24</td>\n",
       "      <td>27.0</td>\n",
       "      <td>30.0</td>\n",
       "      <td>NaN</td>\n",
       "    </tr>\n",
       "    <tr>\n",
       "      <th>4</th>\n",
       "      <td>03/13/2022</td>\n",
       "      <td>05-01-2020</td>\n",
       "      <td>05/31/2020</td>\n",
       "      <td>By Month</td>\n",
       "      <td>2020</td>\n",
       "      <td>5</td>\n",
       "      <td>United States</td>\n",
       "      <td>Respiratory diseases</td>\n",
       "      <td>Influenza and pneumonia</td>\n",
       "      <td>J09-J18</td>\n",
       "      <td>0-24</td>\n",
       "      <td>19.0</td>\n",
       "      <td>19.0</td>\n",
       "      <td>NaN</td>\n",
       "    </tr>\n",
       "  </tbody>\n",
       "</table>\n",
       "</div>"
      ],
      "text/plain": [
       "   Data As Of  Start Date    End Date     Group  Year  Month          State  \\\n",
       "0  03/13/2022  01-01-2020  01/31/2020  By Month  2020      1  United States   \n",
       "1  03/13/2022  02-01-2020  02/29/2020  By Month  2020      2  United States   \n",
       "2  03/13/2022  03-01-2020  03/31/2020  By Month  2020      3  United States   \n",
       "3  03/13/2022  04-01-2020  04/30/2020  By Month  2020      4  United States   \n",
       "4  03/13/2022  05-01-2020  05/31/2020  By Month  2020      5  United States   \n",
       "\n",
       "        Condition Group                Condition ICD10_codes Age Group  \\\n",
       "0  Respiratory diseases  Influenza and pneumonia     J09-J18      0-24   \n",
       "1  Respiratory diseases  Influenza and pneumonia     J09-J18      0-24   \n",
       "2  Respiratory diseases  Influenza and pneumonia     J09-J18      0-24   \n",
       "3  Respiratory diseases  Influenza and pneumonia     J09-J18      0-24   \n",
       "4  Respiratory diseases  Influenza and pneumonia     J09-J18      0-24   \n",
       "\n",
       "   COVID-19 Deaths  Number of Mentions Flag  \n",
       "0              0.0                 0.0  NaN  \n",
       "1              0.0                 0.0  NaN  \n",
       "2              9.0                 9.0  NaN  \n",
       "3             27.0                30.0  NaN  \n",
       "4             19.0                19.0  NaN  "
      ]
     },
     "execution_count": 30,
     "metadata": {},
     "output_type": "execute_result"
    }
   ],
   "source": [
    "df = pd.read_csv(r'without nan.csv')\n",
    "\n",
    "\n",
    "df.head(5)\n"
   ]
  },
  {
   "cell_type": "markdown",
   "metadata": {},
   "source": [
    "# Data Preprocessing"
   ]
  },
  {
   "cell_type": "code",
   "execution_count": 31,
   "metadata": {
    "colab": {
     "base_uri": "https://localhost:8080/",
     "height": 896
    },
    "executionInfo": {
     "elapsed": 40,
     "status": "ok",
     "timestamp": 1648058967641,
     "user": {
      "displayName": "Uddhav Patil",
      "photoUrl": "https://lh3.googleusercontent.com/a/default-user=s64",
      "userId": "03045740889038286514"
     },
     "user_tz": -330
    },
    "id": "8xpLkZ9DmEC8",
    "outputId": "1addb05d-9752-47e2-e92d-423aa3301acb"
   },
   "outputs": [
    {
     "data": {
      "text/html": [
       "<div>\n",
       "<style scoped>\n",
       "    .dataframe tbody tr th:only-of-type {\n",
       "        vertical-align: middle;\n",
       "    }\n",
       "\n",
       "    .dataframe tbody tr th {\n",
       "        vertical-align: top;\n",
       "    }\n",
       "\n",
       "    .dataframe thead th {\n",
       "        text-align: right;\n",
       "    }\n",
       "</style>\n",
       "<table border=\"1\" class=\"dataframe\">\n",
       "  <thead>\n",
       "    <tr style=\"text-align: right;\">\n",
       "      <th></th>\n",
       "      <th>Data As Of</th>\n",
       "      <th>Start Date</th>\n",
       "      <th>End Date</th>\n",
       "      <th>Group</th>\n",
       "      <th>Year</th>\n",
       "      <th>Month</th>\n",
       "      <th>State</th>\n",
       "      <th>Condition Group</th>\n",
       "      <th>Condition</th>\n",
       "      <th>ICD10_codes</th>\n",
       "      <th>Age Group</th>\n",
       "      <th>COVID-19 Deaths</th>\n",
       "      <th>Number of Mentions</th>\n",
       "      <th>Flag</th>\n",
       "    </tr>\n",
       "  </thead>\n",
       "  <tbody>\n",
       "    <tr>\n",
       "      <th>6021</th>\n",
       "      <td>03/13/2022</td>\n",
       "      <td>01-01-2020</td>\n",
       "      <td>01/31/2020</td>\n",
       "      <td>By Month</td>\n",
       "      <td>2020</td>\n",
       "      <td>1</td>\n",
       "      <td>United States</td>\n",
       "      <td>COVID-19</td>\n",
       "      <td>COVID-19</td>\n",
       "      <td>U071</td>\n",
       "      <td>45-54</td>\n",
       "      <td>1.0</td>\n",
       "      <td>1.0</td>\n",
       "      <td>NaN</td>\n",
       "    </tr>\n",
       "    <tr>\n",
       "      <th>6022</th>\n",
       "      <td>03/13/2022</td>\n",
       "      <td>02-01-2020</td>\n",
       "      <td>02/29/2020</td>\n",
       "      <td>By Month</td>\n",
       "      <td>2020</td>\n",
       "      <td>2</td>\n",
       "      <td>United States</td>\n",
       "      <td>COVID-19</td>\n",
       "      <td>COVID-19</td>\n",
       "      <td>U071</td>\n",
       "      <td>45-54</td>\n",
       "      <td>2.0</td>\n",
       "      <td>2.0</td>\n",
       "      <td>NaN</td>\n",
       "    </tr>\n",
       "    <tr>\n",
       "      <th>6023</th>\n",
       "      <td>03/13/2022</td>\n",
       "      <td>03-01-2020</td>\n",
       "      <td>03/31/2020</td>\n",
       "      <td>By Month</td>\n",
       "      <td>2020</td>\n",
       "      <td>3</td>\n",
       "      <td>United States</td>\n",
       "      <td>COVID-19</td>\n",
       "      <td>COVID-19</td>\n",
       "      <td>U071</td>\n",
       "      <td>45-54</td>\n",
       "      <td>525.0</td>\n",
       "      <td>525.0</td>\n",
       "      <td>NaN</td>\n",
       "    </tr>\n",
       "    <tr>\n",
       "      <th>6024</th>\n",
       "      <td>03/13/2022</td>\n",
       "      <td>04-01-2020</td>\n",
       "      <td>04/30/2020</td>\n",
       "      <td>By Month</td>\n",
       "      <td>2020</td>\n",
       "      <td>4</td>\n",
       "      <td>United States</td>\n",
       "      <td>COVID-19</td>\n",
       "      <td>COVID-19</td>\n",
       "      <td>U071</td>\n",
       "      <td>45-54</td>\n",
       "      <td>3185.0</td>\n",
       "      <td>3185.0</td>\n",
       "      <td>NaN</td>\n",
       "    </tr>\n",
       "    <tr>\n",
       "      <th>6025</th>\n",
       "      <td>03/13/2022</td>\n",
       "      <td>05-01-2020</td>\n",
       "      <td>05/31/2020</td>\n",
       "      <td>By Month</td>\n",
       "      <td>2020</td>\n",
       "      <td>5</td>\n",
       "      <td>United States</td>\n",
       "      <td>COVID-19</td>\n",
       "      <td>COVID-19</td>\n",
       "      <td>U071</td>\n",
       "      <td>45-54</td>\n",
       "      <td>1711.0</td>\n",
       "      <td>1711.0</td>\n",
       "      <td>NaN</td>\n",
       "    </tr>\n",
       "  </tbody>\n",
       "</table>\n",
       "</div>"
      ],
      "text/plain": [
       "      Data As Of  Start Date    End Date     Group  Year  Month  \\\n",
       "6021  03/13/2022  01-01-2020  01/31/2020  By Month  2020      1   \n",
       "6022  03/13/2022  02-01-2020  02/29/2020  By Month  2020      2   \n",
       "6023  03/13/2022  03-01-2020  03/31/2020  By Month  2020      3   \n",
       "6024  03/13/2022  04-01-2020  04/30/2020  By Month  2020      4   \n",
       "6025  03/13/2022  05-01-2020  05/31/2020  By Month  2020      5   \n",
       "\n",
       "              State Condition Group Condition ICD10_codes Age Group  \\\n",
       "6021  United States        COVID-19  COVID-19        U071     45-54   \n",
       "6022  United States        COVID-19  COVID-19        U071     45-54   \n",
       "6023  United States        COVID-19  COVID-19        U071     45-54   \n",
       "6024  United States        COVID-19  COVID-19        U071     45-54   \n",
       "6025  United States        COVID-19  COVID-19        U071     45-54   \n",
       "\n",
       "      COVID-19 Deaths  Number of Mentions Flag  \n",
       "6021              1.0                 1.0  NaN  \n",
       "6022              2.0                 2.0  NaN  \n",
       "6023            525.0               525.0  NaN  \n",
       "6024           3185.0              3185.0  NaN  \n",
       "6025           1711.0              1711.0  NaN  "
      ]
     },
     "execution_count": 31,
     "metadata": {},
     "output_type": "execute_result"
    }
   ],
   "source": [
    "df =df[(df[\"Age Group\"] == '45-54') & (df[\"State\"] == 'United States') &  (df[\"Condition Group\"] == 'COVID-19') & (df[\"Condition\"] == 'COVID-19') ]\n",
    "df.head(5)"
   ]
  },
  {
   "cell_type": "code",
   "execution_count": 32,
   "metadata": {
    "colab": {
     "base_uri": "https://localhost:8080/",
     "height": 896
    },
    "executionInfo": {
     "elapsed": 37,
     "status": "ok",
     "timestamp": 1648058967643,
     "user": {
      "displayName": "Uddhav Patil",
      "photoUrl": "https://lh3.googleusercontent.com/a/default-user=s64",
      "userId": "03045740889038286514"
     },
     "user_tz": -330
    },
    "id": "NPzNLxBEq-xk",
    "outputId": "4369a222-d2bc-419e-be7b-d495c1bd716a"
   },
   "outputs": [
    {
     "data": {
      "text/html": [
       "<div>\n",
       "<style scoped>\n",
       "    .dataframe tbody tr th:only-of-type {\n",
       "        vertical-align: middle;\n",
       "    }\n",
       "\n",
       "    .dataframe tbody tr th {\n",
       "        vertical-align: top;\n",
       "    }\n",
       "\n",
       "    .dataframe thead th {\n",
       "        text-align: right;\n",
       "    }\n",
       "</style>\n",
       "<table border=\"1\" class=\"dataframe\">\n",
       "  <thead>\n",
       "    <tr style=\"text-align: right;\">\n",
       "      <th></th>\n",
       "      <th>Start Date</th>\n",
       "      <th>COVID-19 Deaths</th>\n",
       "    </tr>\n",
       "  </thead>\n",
       "  <tbody>\n",
       "    <tr>\n",
       "      <th>6021</th>\n",
       "      <td>01-01-2020</td>\n",
       "      <td>1.0</td>\n",
       "    </tr>\n",
       "    <tr>\n",
       "      <th>6022</th>\n",
       "      <td>02-01-2020</td>\n",
       "      <td>2.0</td>\n",
       "    </tr>\n",
       "    <tr>\n",
       "      <th>6023</th>\n",
       "      <td>03-01-2020</td>\n",
       "      <td>525.0</td>\n",
       "    </tr>\n",
       "    <tr>\n",
       "      <th>6024</th>\n",
       "      <td>04-01-2020</td>\n",
       "      <td>3185.0</td>\n",
       "    </tr>\n",
       "    <tr>\n",
       "      <th>6025</th>\n",
       "      <td>05-01-2020</td>\n",
       "      <td>1711.0</td>\n",
       "    </tr>\n",
       "  </tbody>\n",
       "</table>\n",
       "</div>"
      ],
      "text/plain": [
       "      Start Date  COVID-19 Deaths\n",
       "6021  01-01-2020              1.0\n",
       "6022  02-01-2020              2.0\n",
       "6023  03-01-2020            525.0\n",
       "6024  04-01-2020           3185.0\n",
       "6025  05-01-2020           1711.0"
      ]
     },
     "execution_count": 32,
     "metadata": {},
     "output_type": "execute_result"
    }
   ],
   "source": [
    "df = df[[\"Start Date\",\"COVID-19 Deaths\"]]\n",
    "df.head(5)"
   ]
  },
  {
   "cell_type": "code",
   "execution_count": 33,
   "metadata": {
    "colab": {
     "base_uri": "https://localhost:8080/",
     "height": 896
    },
    "executionInfo": {
     "elapsed": 713,
     "status": "ok",
     "timestamp": 1648058968325,
     "user": {
      "displayName": "Uddhav Patil",
      "photoUrl": "https://lh3.googleusercontent.com/a/default-user=s64",
      "userId": "03045740889038286514"
     },
     "user_tz": -330
    },
    "id": "nmq_dFfCOf5T",
    "outputId": "6bd3a9aa-8a74-4de1-8c80-7b2debd42034"
   },
   "outputs": [
    {
     "data": {
      "text/html": [
       "<div>\n",
       "<style scoped>\n",
       "    .dataframe tbody tr th:only-of-type {\n",
       "        vertical-align: middle;\n",
       "    }\n",
       "\n",
       "    .dataframe tbody tr th {\n",
       "        vertical-align: top;\n",
       "    }\n",
       "\n",
       "    .dataframe thead th {\n",
       "        text-align: right;\n",
       "    }\n",
       "</style>\n",
       "<table border=\"1\" class=\"dataframe\">\n",
       "  <thead>\n",
       "    <tr style=\"text-align: right;\">\n",
       "      <th></th>\n",
       "      <th>Start Date</th>\n",
       "      <th>COVID-19 Deaths</th>\n",
       "    </tr>\n",
       "  </thead>\n",
       "  <tbody>\n",
       "    <tr>\n",
       "      <th>6021</th>\n",
       "      <td>01-01-2020</td>\n",
       "      <td>1.0</td>\n",
       "    </tr>\n",
       "    <tr>\n",
       "      <th>6022</th>\n",
       "      <td>02-01-2020</td>\n",
       "      <td>2.0</td>\n",
       "    </tr>\n",
       "    <tr>\n",
       "      <th>6023</th>\n",
       "      <td>03-01-2020</td>\n",
       "      <td>525.0</td>\n",
       "    </tr>\n",
       "    <tr>\n",
       "      <th>6024</th>\n",
       "      <td>04-01-2020</td>\n",
       "      <td>3185.0</td>\n",
       "    </tr>\n",
       "    <tr>\n",
       "      <th>6025</th>\n",
       "      <td>05-01-2020</td>\n",
       "      <td>1711.0</td>\n",
       "    </tr>\n",
       "  </tbody>\n",
       "</table>\n",
       "</div>"
      ],
      "text/plain": [
       "      Start Date  COVID-19 Deaths\n",
       "6021  01-01-2020              1.0\n",
       "6022  02-01-2020              2.0\n",
       "6023  03-01-2020            525.0\n",
       "6024  04-01-2020           3185.0\n",
       "6025  05-01-2020           1711.0"
      ]
     },
     "execution_count": 33,
     "metadata": {},
     "output_type": "execute_result"
    }
   ],
   "source": [
    "df = df.drop_duplicates(subset = [\"Start Date\"])\n",
    "df.head(5)\n"
   ]
  },
  {
   "cell_type": "code",
   "execution_count": 34,
   "metadata": {
    "colab": {
     "base_uri": "https://localhost:8080/",
     "height": 896
    },
    "executionInfo": {
     "elapsed": 35,
     "status": "ok",
     "timestamp": 1648058968328,
     "user": {
      "displayName": "Uddhav Patil",
      "photoUrl": "https://lh3.googleusercontent.com/a/default-user=s64",
      "userId": "03045740889038286514"
     },
     "user_tz": -330
    },
    "id": "6zEdWgifwOzH",
    "outputId": "63279bd5-d5ca-4259-84ed-3124b094604b"
   },
   "outputs": [
    {
     "data": {
      "text/html": [
       "<div>\n",
       "<style scoped>\n",
       "    .dataframe tbody tr th:only-of-type {\n",
       "        vertical-align: middle;\n",
       "    }\n",
       "\n",
       "    .dataframe tbody tr th {\n",
       "        vertical-align: top;\n",
       "    }\n",
       "\n",
       "    .dataframe thead th {\n",
       "        text-align: right;\n",
       "    }\n",
       "</style>\n",
       "<table border=\"1\" class=\"dataframe\">\n",
       "  <thead>\n",
       "    <tr style=\"text-align: right;\">\n",
       "      <th></th>\n",
       "      <th>Start Date</th>\n",
       "      <th>COVID-19 Deaths</th>\n",
       "    </tr>\n",
       "  </thead>\n",
       "  <tbody>\n",
       "    <tr>\n",
       "      <th>6021</th>\n",
       "      <td>2020-01-01</td>\n",
       "      <td>1.0</td>\n",
       "    </tr>\n",
       "    <tr>\n",
       "      <th>6022</th>\n",
       "      <td>2020-02-01</td>\n",
       "      <td>2.0</td>\n",
       "    </tr>\n",
       "    <tr>\n",
       "      <th>6023</th>\n",
       "      <td>2020-03-01</td>\n",
       "      <td>525.0</td>\n",
       "    </tr>\n",
       "    <tr>\n",
       "      <th>6024</th>\n",
       "      <td>2020-04-01</td>\n",
       "      <td>3185.0</td>\n",
       "    </tr>\n",
       "    <tr>\n",
       "      <th>6025</th>\n",
       "      <td>2020-05-01</td>\n",
       "      <td>1711.0</td>\n",
       "    </tr>\n",
       "    <tr>\n",
       "      <th>6026</th>\n",
       "      <td>2020-06-01</td>\n",
       "      <td>1141.0</td>\n",
       "    </tr>\n",
       "    <tr>\n",
       "      <th>6027</th>\n",
       "      <td>2020-07-01</td>\n",
       "      <td>1997.0</td>\n",
       "    </tr>\n",
       "    <tr>\n",
       "      <th>6028</th>\n",
       "      <td>2020-08-01</td>\n",
       "      <td>1725.0</td>\n",
       "    </tr>\n",
       "    <tr>\n",
       "      <th>6029</th>\n",
       "      <td>2020-09-01</td>\n",
       "      <td>980.0</td>\n",
       "    </tr>\n",
       "    <tr>\n",
       "      <th>6030</th>\n",
       "      <td>2020-10-01</td>\n",
       "      <td>1040.0</td>\n",
       "    </tr>\n",
       "  </tbody>\n",
       "</table>\n",
       "</div>"
      ],
      "text/plain": [
       "     Start Date  COVID-19 Deaths\n",
       "6021 2020-01-01              1.0\n",
       "6022 2020-02-01              2.0\n",
       "6023 2020-03-01            525.0\n",
       "6024 2020-04-01           3185.0\n",
       "6025 2020-05-01           1711.0\n",
       "6026 2020-06-01           1141.0\n",
       "6027 2020-07-01           1997.0\n",
       "6028 2020-08-01           1725.0\n",
       "6029 2020-09-01            980.0\n",
       "6030 2020-10-01           1040.0"
      ]
     },
     "execution_count": 34,
     "metadata": {},
     "output_type": "execute_result"
    }
   ],
   "source": [
    "df['Start Date'] = pd.to_datetime(df['Start Date'])\n",
    "df.sort_values(by='Start Date').head(10)"
   ]
  },
  {
   "cell_type": "code",
   "execution_count": 35,
   "metadata": {
    "colab": {
     "base_uri": "https://localhost:8080/",
     "height": 896
    },
    "executionInfo": {
     "elapsed": 31,
     "status": "ok",
     "timestamp": 1648058968330,
     "user": {
      "displayName": "Uddhav Patil",
      "photoUrl": "https://lh3.googleusercontent.com/a/default-user=s64",
      "userId": "03045740889038286514"
     },
     "user_tz": -330
    },
    "id": "5-mhbzxzxwgG",
    "outputId": "a5814726-e917-4165-cdb6-b4f258faf1ea"
   },
   "outputs": [
    {
     "data": {
      "text/html": [
       "<div>\n",
       "<style scoped>\n",
       "    .dataframe tbody tr th:only-of-type {\n",
       "        vertical-align: middle;\n",
       "    }\n",
       "\n",
       "    .dataframe tbody tr th {\n",
       "        vertical-align: top;\n",
       "    }\n",
       "\n",
       "    .dataframe thead th {\n",
       "        text-align: right;\n",
       "    }\n",
       "</style>\n",
       "<table border=\"1\" class=\"dataframe\">\n",
       "  <thead>\n",
       "    <tr style=\"text-align: right;\">\n",
       "      <th></th>\n",
       "      <th>COVID-19 Deaths</th>\n",
       "    </tr>\n",
       "  </thead>\n",
       "  <tbody>\n",
       "    <tr>\n",
       "      <th>6021</th>\n",
       "      <td>1.0</td>\n",
       "    </tr>\n",
       "    <tr>\n",
       "      <th>6022</th>\n",
       "      <td>2.0</td>\n",
       "    </tr>\n",
       "    <tr>\n",
       "      <th>6023</th>\n",
       "      <td>525.0</td>\n",
       "    </tr>\n",
       "    <tr>\n",
       "      <th>6024</th>\n",
       "      <td>3185.0</td>\n",
       "    </tr>\n",
       "    <tr>\n",
       "      <th>6025</th>\n",
       "      <td>1711.0</td>\n",
       "    </tr>\n",
       "    <tr>\n",
       "      <th>6026</th>\n",
       "      <td>1141.0</td>\n",
       "    </tr>\n",
       "    <tr>\n",
       "      <th>6027</th>\n",
       "      <td>1997.0</td>\n",
       "    </tr>\n",
       "    <tr>\n",
       "      <th>6028</th>\n",
       "      <td>1725.0</td>\n",
       "    </tr>\n",
       "    <tr>\n",
       "      <th>6029</th>\n",
       "      <td>980.0</td>\n",
       "    </tr>\n",
       "    <tr>\n",
       "      <th>6030</th>\n",
       "      <td>1040.0</td>\n",
       "    </tr>\n",
       "  </tbody>\n",
       "</table>\n",
       "</div>"
      ],
      "text/plain": [
       "      COVID-19 Deaths\n",
       "6021              1.0\n",
       "6022              2.0\n",
       "6023            525.0\n",
       "6024           3185.0\n",
       "6025           1711.0\n",
       "6026           1141.0\n",
       "6027           1997.0\n",
       "6028           1725.0\n",
       "6029            980.0\n",
       "6030           1040.0"
      ]
     },
     "execution_count": 35,
     "metadata": {},
     "output_type": "execute_result"
    }
   ],
   "source": [
    "df.drop('Start Date',axis=1,inplace=True)\n",
    "df.head(10)"
   ]
  },
  {
   "cell_type": "markdown",
   "metadata": {},
   "source": [
    "# Visualization"
   ]
  },
  {
   "cell_type": "code",
   "execution_count": 36,
   "metadata": {
    "colab": {
     "base_uri": "https://localhost:8080/",
     "height": 722
    },
    "executionInfo": {
     "elapsed": 1356,
     "status": "ok",
     "timestamp": 1648058969659,
     "user": {
      "displayName": "Uddhav Patil",
      "photoUrl": "https://lh3.googleusercontent.com/a/default-user=s64",
      "userId": "03045740889038286514"
     },
     "user_tz": -330
    },
    "id": "DLs7XONgsqxT",
    "outputId": "9bd90611-cff5-4aca-bdbd-5b5de0496b05"
   },
   "outputs": [
    {
     "data": {
      "text/plain": [
       "[<matplotlib.lines.Line2D at 0x1da18c236d0>]"
      ]
     },
     "execution_count": 36,
     "metadata": {},
     "output_type": "execute_result"
    },
    {
     "data": {
      "image/png": "[encoded data removed]",
      "text/plain": [
       "<Figure size 810x540 with 1 Axes>"
      ]
     },
     "metadata": {
      "needs_background": "light"
     },
     "output_type": "display_data"
    }
   ],
   "source": [
    "# df.set_index(\"Start Date\",inplace=True)\n",
    "index = pd.Index(range(1, 28))\n",
    "df = df.set_index(index)\n",
    "plt.plot(df)"
   ]
  },
  {
   "cell_type": "code",
   "execution_count": 37,
   "metadata": {},
   "outputs": [
    {
     "data": {
      "image/png": "[encoded data removed]",
      "text/plain": [
       "<Figure size 810x540 with 1 Axes>"
      ]
     },
     "metadata": {
      "needs_background": "light"
     },
     "output_type": "display_data"
    }
   ],
   "source": [
    "from pandas.plotting import autocorrelation_plot\n",
    "autocorrelation_plot(df)\n",
    "plt.show()"
   ]
  },
  {
   "cell_type": "markdown",
   "metadata": {},
   "source": [
    "# ARIMA -----------> "
   ]
  },
  {
   "cell_type": "markdown",
   "metadata": {},
   "source": [
    "### Train / Validation set"
   ]
  },
  {
   "cell_type": "code",
   "execution_count": 38,
   "metadata": {
    "executionInfo": {
     "elapsed": 24,
     "status": "ok",
     "timestamp": 1648058969662,
     "user": {
      "displayName": "Uddhav Patil",
      "photoUrl": "https://lh3.googleusercontent.com/a/default-user=s64",
      "userId": "03045740889038286514"
     },
     "user_tz": -330
    },
    "id": "WVwdhl6ankS3"
   },
   "outputs": [],
   "source": [
    "train = df[:int(0.7*(len(df)))]\n",
    "valid = df[int(0.7*(len(df))):]"
   ]
  },
  {
   "cell_type": "code",
   "execution_count": 39,
   "metadata": {
    "colab": {
     "base_uri": "https://localhost:8080/"
    },
    "executionInfo": {
     "elapsed": 4933,
     "status": "ok",
     "timestamp": 1648058974575,
     "user": {
      "displayName": "Uddhav Patil",
      "photoUrl": "https://lh3.googleusercontent.com/a/default-user=s64",
      "userId": "03045740889038286514"
     },
     "user_tz": -330
    },
    "id": "nZ5wobXPntCb",
    "outputId": "b491465c-a438-45ea-b24f-337927908498"
   },
   "outputs": [
    {
     "name": "stdout",
     "output_type": "stream",
     "text": [
      "Requirement already satisfied: pmdarima in c:\\users\\sameer\\anaconda3\\lib\\site-packages (1.8.5)\n",
      "Requirement already satisfied: urllib3 in c:\\users\\sameer\\anaconda3\\lib\\site-packages (from pmdarima) (1.26.4)\n",
      "Requirement already satisfied: numpy>=1.19.3 in c:\\users\\sameer\\anaconda3\\lib\\site-packages (from pmdarima) (1.20.1)\n",
      "Requirement already satisfied: scipy>=1.3.2 in c:\\users\\sameer\\anaconda3\\lib\\site-packages (from pmdarima) (1.7.2)\n",
      "Requirement already satisfied: statsmodels!=0.12.0,>=0.11 in c:\\users\\sameer\\anaconda3\\lib\\site-packages (from pmdarima) (0.12.2)\n",
      "Requirement already satisfied: joblib>=0.11 in c:\\users\\sameer\\anaconda3\\lib\\site-packages (from pmdarima) (1.0.1)\n",
      "Requirement already satisfied: pandas>=0.19 in c:\\users\\sameer\\anaconda3\\lib\\site-packages (from pmdarima) (1.2.4)\n",
      "Requirement already satisfied: setuptools!=50.0.0,>=38.6.0 in c:\\users\\sameer\\anaconda3\\lib\\site-packages (from pmdarima) (52.0.0.post20210125)\n",
      "Requirement already satisfied: Cython!=0.29.18,>=0.29 in c:\\users\\sameer\\anaconda3\\lib\\site-packages (from pmdarima) (0.29.23)\n",
      "Requirement already satisfied: scikit-learn>=0.22 in c:\\users\\sameer\\anaconda3\\lib\\site-packages (from pmdarima) (0.24.1)\n",
      "Requirement already satisfied: python-dateutil>=2.7.3 in c:\\users\\sameer\\anaconda3\\lib\\site-packages (from pandas>=0.19->pmdarima) (2.8.1)\n",
      "Requirement already satisfied: pytz>=2017.3 in c:\\users\\sameer\\anaconda3\\lib\\site-packages (from pandas>=0.19->pmdarima) (2021.1)\n",
      "Requirement already satisfied: threadpoolctl>=2.0.0 in c:\\users\\sameer\\anaconda3\\lib\\site-packages (from scikit-learn>=0.22->pmdarima) (2.1.0)\n",
      "Requirement already satisfied: patsy>=0.5 in c:\\users\\sameer\\anaconda3\\lib\\site-packages (from statsmodels!=0.12.0,>=0.11->pmdarima) (0.5.1)\n",
      "Requirement already satisfied: six in c:\\users\\sameer\\anaconda3\\lib\\site-packages (from patsy>=0.5->statsmodels!=0.12.0,>=0.11->pmdarima) (1.15.0)\n",
      "Note: you may need to restart the kernel to use updated packages.\n"
     ]
    },
    {
     "name": "stderr",
     "output_type": "stream",
     "text": [
      "WARNING: You are using pip version 21.3.1; however, version 22.0.4 is available.\n",
      "You should consider upgrading via the 'C:\\Users\\SAMEER\\anaconda3\\python.exe -m pip install --upgrade pip' command.\n"
     ]
    }
   ],
   "source": [
    "pip install pmdarima"
   ]
  },
  {
   "cell_type": "markdown",
   "metadata": {},
   "source": [
    "### Model Fitting and Prediction"
   ]
  },
  {
   "cell_type": "code",
   "execution_count": 41,
   "metadata": {
    "colab": {
     "base_uri": "https://localhost:8080/",
     "height": 1000
    },
    "executionInfo": {
     "elapsed": 2613,
     "status": "ok",
     "timestamp": 1648058977158,
     "user": {
      "displayName": "Uddhav Patil",
      "photoUrl": "https://lh3.googleusercontent.com/a/default-user=s64",
      "userId": "03045740889038286514"
     },
     "user_tz": -330
    },
    "id": "tFI4boW0oI0V",
    "outputId": "1b871b6d-aadb-4b70-e904-a3b15226cdc8"
   },
   "outputs": [
    {
     "name": "stdout",
     "output_type": "stream",
     "text": [
      "Performing stepwise search to minimize aic\n",
      " ARIMA(2,0,2)(0,0,0)[0] intercept   : AIC=inf, Time=0.57 sec\n",
      " ARIMA(0,0,0)(0,0,0)[0] intercept   : AIC=311.444, Time=0.01 sec\n",
      " ARIMA(1,0,0)(0,0,0)[0] intercept   : AIC=307.368, Time=0.22 sec\n",
      " ARIMA(0,0,1)(0,0,0)[0] intercept   : AIC=304.924, Time=0.30 sec\n",
      " ARIMA(0,0,0)(0,0,0)[0]             : AIC=328.862, Time=0.02 sec\n",
      " ARIMA(1,0,1)(0,0,0)[0] intercept   : AIC=306.642, Time=0.16 sec\n",
      " ARIMA(0,0,2)(0,0,0)[0] intercept   : AIC=306.439, Time=0.22 sec\n",
      " ARIMA(1,0,2)(0,0,0)[0] intercept   : AIC=308.397, Time=0.33 sec\n",
      " ARIMA(0,0,1)(0,0,0)[0]             : AIC=inf, Time=0.12 sec\n",
      "\n",
      "Best model:  ARIMA(0,0,1)(0,0,0)[0] intercept\n",
      "Total fit time: 1.982 seconds\n"
     ]
    },
    {
     "data": {
      "image/png": "[encoded data removed]",
      "text/plain": [
       "<Figure size 810x540 with 1 Axes>"
      ]
     },
     "metadata": {
      "needs_background": "light"
     },
     "output_type": "display_data"
    },
    {
     "name": "stdout",
     "output_type": "stream",
     "text": [
      "                               SARIMAX Results                                \n",
      "==============================================================================\n",
      "Dep. Variable:                      y   No. Observations:                   18\n",
      "Model:               SARIMAX(0, 0, 1)   Log Likelihood                -149.462\n",
      "Date:                Thu, 24 Mar 2022   AIC                            304.924\n",
      "Time:                        12:57:03   BIC                            307.595\n",
      "Sample:                             0   HQIC                           305.292\n",
      "                                 - 18                                         \n",
      "Covariance Type:                  opg                                         \n",
      "==============================================================================\n",
      "                 coef    std err          z      P>|z|      [0.025      0.975]\n",
      "------------------------------------------------------------------------------\n",
      "intercept   1631.0482    487.790      3.344      0.001     674.998    2587.098\n",
      "ma.L1          0.7613      0.207      3.684      0.000       0.356       1.166\n",
      "sigma2      9.097e+05   3.58e+05      2.542      0.011    2.08e+05    1.61e+06\n",
      "===================================================================================\n",
      "Ljung-Box (L1) (Q):                   0.06   Jarque-Bera (JB):                 2.00\n",
      "Prob(Q):                              0.81   Prob(JB):                         0.37\n",
      "Heteroskedasticity (H):               0.37   Skew:                             0.82\n",
      "Prob(H) (two-sided):                  0.25   Kurtosis:                         2.97\n",
      "===================================================================================\n",
      "\n",
      "Warnings:\n",
      "[1] Covariance matrix calculated using the outer product of gradients (complex-step).\n"
     ]
    }
   ],
   "source": [
    "from pmdarima import auto_arima\n",
    "model = auto_arima(train, trace=True, error_action='ignore', suppress_warnings=True)\n",
    "model_fit = model.fit(train)\n",
    "\n",
    "forecast = model.predict(n_periods=len(valid))\n",
    "forecast = pd.DataFrame(forecast,index = valid.index,columns=['Prediction'])\n",
    "\n",
    "#plot the predictions for validation set\n",
    "plt.plot(train, label='Train')\n",
    "plt.plot(valid, label='Valid')\n",
    "plt.plot(forecast, label='Prediction')\n",
    "plt.legend()\n",
    "plt.show()\n",
    "print(model_fit.summary())"
   ]
  },
  {
   "cell_type": "markdown",
   "metadata": {},
   "source": [
    "### Error Calculation and ACF / PACF plots -----> "
   ]
  },
  {
   "cell_type": "code",
   "execution_count": 42,
   "metadata": {
    "colab": {
     "base_uri": "https://localhost:8080/"
    },
    "executionInfo": {
     "elapsed": 30,
     "status": "ok",
     "timestamp": 1648058977160,
     "user": {
      "displayName": "Uddhav Patil",
      "photoUrl": "https://lh3.googleusercontent.com/a/default-user=s64",
      "userId": "03045740889038286514"
     },
     "user_tz": -330
    },
    "id": "bCi8HGPJoc2O",
    "outputId": "e90b9101-1ba9-404d-8c36-0c7edbbd6ab3"
   },
   "outputs": [
    {
     "name": "stdout",
     "output_type": "stream",
     "text": [
      "Test RMSE: 3103.9193\n"
     ]
    }
   ],
   "source": [
    "#calculate rmse\n",
    "from math import sqrt\n",
    "from sklearn.metrics import mean_squared_error\n",
    "\n",
    "rms = sqrt(mean_squared_error(valid,forecast))\n",
    "\n",
    "print('Test RMSE: %.4f' % rms)"
   ]
  },
  {
   "cell_type": "code",
   "execution_count": 43,
   "metadata": {
    "colab": {
     "base_uri": "https://localhost:8080/",
     "height": 538
    },
    "executionInfo": {
     "elapsed": 91891,
     "status": "ok",
     "timestamp": 1648059849876,
     "user": {
      "displayName": "Uddhav Patil",
      "photoUrl": "https://lh3.googleusercontent.com/a/default-user=s64",
      "userId": "03045740889038286514"
     },
     "user_tz": -330
    },
    "id": "u_xysFDmo0eW",
    "outputId": "d2980fde-a75b-448d-cd10-6188e8f00643",
    "scrolled": true
   },
   "outputs": [
    {
     "name": "stderr",
     "output_type": "stream",
     "text": [
      "C:\\Users\\SAMEER\\anaconda3\\lib\\site-packages\\numpy\\core\\_asarray.py:102: UserWarning: Warning: converting a masked element to nan.\n",
      "  return array(a, dtype, copy=False, order=order)\n"
     ]
    },
    {
     "data": {
      "image/png": "[encoded data removed]",
      "text/plain": [
       "<Figure size 810x540 with 2 Axes>"
      ]
     },
     "metadata": {
      "needs_background": "light"
     },
     "output_type": "display_data"
    }
   ],
   "source": [
    "import numpy as np, pandas as pd\n",
    "from statsmodels.graphics.tsaplots import plot_acf, plot_pacf\n",
    "import matplotlib.pyplot as plt\n",
    "plt.rcParams.update({'figure.figsize':(9,6), 'figure.dpi':90})\n",
    "\n",
    "# Import data\n",
    "df = pd.read_csv(r'without nan.csv')\n",
    "\n",
    "# Original Series\n",
    "fig, axes = plt.subplots(1,2, sharex=True)\n",
    "# axes[0, 0].plot(df['COVID-19 Deaths']); axes[0, 0].set_title('Original Series')\n",
    "\n",
    "# Keeping Derivation Order as 0 ---------->\n",
    "\n",
    "plot_acf(df['COVID-19 Deaths'], ax=axes[0])\n",
    "plot_pacf(df['COVID-19 Deaths'], ax=axes[1])\n",
    "\n",
    "# # 1st Order Differencing\n",
    "# # axes[1, 0].plot(df['COVID-19 Deaths'].diff()); axes[1, 0].set_title('1st Order Differencing')\n",
    "#plot_acf(df['COVID-19 Deaths'].diff().dropna(), ax=axes[1,0])\n",
    "#plot_pacf(df['COVID-19 Deaths'].diff().dropna(), ax=axes[1,1])\n",
    "\n",
    "# # 2nd Order Differencing\n",
    "# # axes[2, 0].plot(df['COVID-19 Deaths'].diff().diff()); axes[2, 0].set_title('2nd Order Differencing')\n",
    "# #plot_acf(df['COVID-19 Deaths'].diff().diff().dropna(), ax=axes[2])\n",
    "\n",
    "# # axes[3, 0].plot(df['COVID-19 Deaths'].diff().diff()); axes[2, 0].set_title('2nd Order Differencing')\n",
    "#plot_acf(df['COVID-19 Deaths'].diff().diff().dropna(), ax=axes[2,0])\n",
    "#plot_pacf(df['COVID-19 Deaths'].diff().diff().dropna(), ax=axes[2,1])\n",
    "\n",
    "\n",
    "\n",
    "plt.show()"
   ]
  },
  {
   "cell_type": "code",
   "execution_count": null,
   "metadata": {},
   "outputs": [],
   "source": []
  }
 ],
 "metadata": {
  "colab": {
   "authorship_tag": "ABX9TyPhEJSKzhjxfiLtdOsqqHKb",
   "collapsed_sections": [],
   "name": "ARIMA_DATATHON_ON_DATA1.ipynb",
   "provenance": []
  },
  "kernelspec": {
   "display_name": "Python 3",
   "language": "python",
   "name": "python3"
  },
  "language_info": {
   "codemirror_mode": {
    "name": "ipython",
    "version": 3
   },
   "file_extension": ".py",
   "mimetype": "text/x-python",
   "name": "python",
   "nbconvert_exporter": "python",
   "pygments_lexer": "ipython3",
   "version": "3.8.8"
  }
 },
 "nbformat": 4,
 "nbformat_minor": 1
}
